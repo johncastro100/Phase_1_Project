{
 "cells": [
  {
   "cell_type": "markdown",
   "metadata": {},
   "source": [
    "![FILM](images/film.jpg)"
   ]
  },
  {
   "cell_type": "markdown",
   "metadata": {},
   "source": [
    "# Microsoft Film Studio Analysis"
   ]
  },
  {
   "cell_type": "markdown",
   "metadata": {},
   "source": [
    "### Author: John Castro"
   ]
  },
  {
   "cell_type": "markdown",
   "metadata": {},
   "source": [
    "## Overview"
   ]
  },
  {
   "cell_type": "markdown",
   "metadata": {},
   "source": [
    "This project analyzes film data to provide three recommendation for Microsoft in their expansion into film studio production. Descriptive analysis of box office success data shows that top grossing films share similarity that can be replicated. Microsoft can use this analysis to find their brand, mirror the success of others, and innovate with exemplary talent. "
   ]
  },
  {
   "cell_type": "markdown",
   "metadata": {},
   "source": [
    "## Business Understanding"
   ]
  },
  {
   "cell_type": "markdown",
   "metadata": {},
   "source": [
    "Microsoft may be able to ensure early success by understanding the competition and branding themselves to go with or against the grain. "
   ]
  },
  {
   "cell_type": "markdown",
   "metadata": {},
   "source": [
    "## Data Understanding"
   ]
  },
  {
   "cell_type": "markdown",
   "metadata": {},
   "source": [
    "Imdb has a large dataset identifying and categorizing aspects of each film. Each film, director, and even team member are assigned a specific ID that associates them with information necessary for futher analysis."
   ]
  },
  {
   "cell_type": "markdown",
   "metadata": {},
   "source": [
    "### Data Preparation"
   ]
  },
  {
   "cell_type": "markdown",
   "metadata": {},
   "source": [
    "Gathered data from large datasets to combine and compare. "
   ]
  },
  {
   "cell_type": "markdown",
   "metadata": {},
   "source": [
    "## Exploratory Data Analysis"
   ]
  },
  {
   "cell_type": "markdown",
   "metadata": {},
   "source": [
    "<b>Top ten grossing movies</b> ranked by their total gross revenue, with each movie represented by two bars: one for its domestic gross revenue (shown in blue) and one for its international revenue (shown in pale blue)."
   ]
  },
  {
   "cell_type": "markdown",
   "metadata": {},
   "source": [
    "![Chart](images/top_10_movies1.png)"
   ]
  },
  {
   "cell_type": "markdown",
   "metadata": {},
   "source": [
    "The chart shows that the movies with the <b>highest total gross revenue are not necessarily the ones with the highest production budget.</b>"
   ]
  },
  {
   "cell_type": "markdown",
   "metadata": {},
   "source": [
    "![Compare](images/top_10_.png)"
   ]
  },
  {
   "cell_type": "markdown",
   "metadata": {},
   "source": [
    "## Conclusion"
   ]
  },
  {
   "cell_type": "markdown",
   "metadata": {},
   "source": [
    "Microsoft's new movie studio represents a major step forward for the company. By entering the film industry, Microsoft has an opportunity to leverage its existing strengths in technology and entertainment to create compelling content and engage audiences in new and exciting ways."
   ]
  },
  {
   "cell_type": "markdown",
   "metadata": {},
   "source": [
    "### Limitations"
   ]
  },
  {
   "cell_type": "markdown",
   "metadata": {},
   "source": [
    "Some limitaions may include, lack of experience, tough competition, and changing comsumer preferences. On top of all of this, there is the inherent financial risk in breaking into an already vibrant industry."
   ]
  },
  {
   "cell_type": "markdown",
   "metadata": {},
   "source": [
    "### Recommendations"
   ]
  },
  {
   "cell_type": "markdown",
   "metadata": {},
   "source": [
    "The analysis leads to three recommendations to success in the industry.\n",
    "\n",
    "<b>Establish a clear and compelling brand:</b> \n",
    "Microsoft should position themselves as a studio that produces high-quality content that resonates with audiences around the world. One characteristic should include blockbuster entertainment as the highest-grossing films tend to be big-budget, action-packed blockbusters that appeal to a wide audience. \n",
    "\n",
    "<b>Hire experienced professionals:</b> \n",
    "These individuals have the key benefits of expertise, network, and reputation. When navigating a new endevour it is a good idea to have some experience on your side.\n",
    "\n",
    "<b>Be patient and persistent:</b> \n",
    "Success is defined in a multitude of ways and it is important to understand your vision of success. "
   ]
  },
  {
   "cell_type": "markdown",
   "metadata": {},
   "source": [
    "### Next Steps"
   ]
  },
  {
   "cell_type": "markdown",
   "metadata": {},
   "source": [
    "<b>Establish partnerships and collaberations:</b> this will allow the department to grow and learn from individuals and entities in the industry.\n",
    "\n",
    "<b>Develop a diverse and inclusive team:</b> this will allow the department to reach the largest audience and increase awareness to the global economy of the industry. \n",
    "\n",
    "<b>Embrace innovative new technologies:</b> this will increase productivity, production and overall quality of the output. Look to embrace new technology and create your own in addition. "
   ]
  },
  {
   "cell_type": "markdown",
   "metadata": {},
   "source": [
    "## For more information"
   ]
  },
  {
   "cell_type": "markdown",
   "metadata": {},
   "source": [
    "See full analysis in [Jupyter Notebook](code.ipynb) or review this presentation.\n",
    "\n",
    "For additional information please contact John Castro, johncastro2013@gmail.com."
   ]
  },
  {
   "cell_type": "markdown",
   "metadata": {},
   "source": [
    "## Repository Structure"
   ]
  },
  {
   "cell_type": "markdown",
   "metadata": {},
   "source": [
    "├── dsc-phase-1-project-v2-4\n",
    "├── images\n",
    "├── code.ipynb\n",
    "├── Microsoft_Movie_analysis.pdf\n",
    "├── film.jpg\n",
    "├── film1.jpg\n",
    "├── movie_budgets.csv\n",
    "├── README.md\n",
    "└──"
   ]
  }
 ],
 "metadata": {
  "kernelspec": {
   "display_name": "Python (learn-env)",
   "language": "python",
   "name": "learn-env"
  },
  "language_info": {
   "codemirror_mode": {
    "name": "ipython",
    "version": 3
   },
   "file_extension": ".py",
   "mimetype": "text/x-python",
   "name": "python",
   "nbconvert_exporter": "python",
   "pygments_lexer": "ipython3",
   "version": "3.8.5"
  }
 },
 "nbformat": 4,
 "nbformat_minor": 4
}
